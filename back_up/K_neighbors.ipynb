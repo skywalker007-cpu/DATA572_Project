{
 "cells": [
  {
   "cell_type": "code",
   "execution_count": 24,
   "id": "061e48ec-7178-4311-9c7c-28ccfb3d66e2",
   "metadata": {},
   "outputs": [],
   "source": [
    "import pandas as pd\n",
    "import numpy as np"
   ]
  },
  {
   "cell_type": "code",
   "execution_count": 25,
   "id": "2139fe15-9af4-4538-a533-ff247bf1ead8",
   "metadata": {},
   "outputs": [
    {
     "data": {
      "text/plain": [
       "(1059, 8)"
      ]
     },
     "execution_count": 25,
     "metadata": {},
     "output_type": "execute_result"
    }
   ],
   "source": [
    "df = pd.read_csv(\"../milknew.csv\")\n",
    "df.shape"
   ]
  },
  {
   "cell_type": "code",
   "execution_count": 26,
   "id": "825c6c29-910a-462a-9c20-006147ae40e0",
   "metadata": {},
   "outputs": [
    {
     "data": {
      "text/html": [
       "<div>\n",
       "<style scoped>\n",
       "    .dataframe tbody tr th:only-of-type {\n",
       "        vertical-align: middle;\n",
       "    }\n",
       "\n",
       "    .dataframe tbody tr th {\n",
       "        vertical-align: top;\n",
       "    }\n",
       "\n",
       "    .dataframe thead th {\n",
       "        text-align: right;\n",
       "    }\n",
       "</style>\n",
       "<table border=\"1\" class=\"dataframe\">\n",
       "  <thead>\n",
       "    <tr style=\"text-align: right;\">\n",
       "      <th></th>\n",
       "      <th>pH</th>\n",
       "      <th>Temprature</th>\n",
       "      <th>Taste</th>\n",
       "      <th>Odor</th>\n",
       "      <th>Fat</th>\n",
       "      <th>Turbidity</th>\n",
       "      <th>Colour</th>\n",
       "    </tr>\n",
       "  </thead>\n",
       "  <tbody>\n",
       "    <tr>\n",
       "      <th>count</th>\n",
       "      <td>1059.000000</td>\n",
       "      <td>1059.000000</td>\n",
       "      <td>1059.000000</td>\n",
       "      <td>1059.000000</td>\n",
       "      <td>1059.000000</td>\n",
       "      <td>1059.000000</td>\n",
       "      <td>1059.000000</td>\n",
       "    </tr>\n",
       "    <tr>\n",
       "      <th>mean</th>\n",
       "      <td>6.630123</td>\n",
       "      <td>44.226629</td>\n",
       "      <td>0.546742</td>\n",
       "      <td>0.432483</td>\n",
       "      <td>0.671388</td>\n",
       "      <td>0.491029</td>\n",
       "      <td>251.840415</td>\n",
       "    </tr>\n",
       "    <tr>\n",
       "      <th>std</th>\n",
       "      <td>1.399679</td>\n",
       "      <td>10.098364</td>\n",
       "      <td>0.498046</td>\n",
       "      <td>0.495655</td>\n",
       "      <td>0.469930</td>\n",
       "      <td>0.500156</td>\n",
       "      <td>4.307424</td>\n",
       "    </tr>\n",
       "    <tr>\n",
       "      <th>min</th>\n",
       "      <td>3.000000</td>\n",
       "      <td>34.000000</td>\n",
       "      <td>0.000000</td>\n",
       "      <td>0.000000</td>\n",
       "      <td>0.000000</td>\n",
       "      <td>0.000000</td>\n",
       "      <td>240.000000</td>\n",
       "    </tr>\n",
       "    <tr>\n",
       "      <th>25%</th>\n",
       "      <td>6.500000</td>\n",
       "      <td>38.000000</td>\n",
       "      <td>0.000000</td>\n",
       "      <td>0.000000</td>\n",
       "      <td>0.000000</td>\n",
       "      <td>0.000000</td>\n",
       "      <td>250.000000</td>\n",
       "    </tr>\n",
       "    <tr>\n",
       "      <th>50%</th>\n",
       "      <td>6.700000</td>\n",
       "      <td>41.000000</td>\n",
       "      <td>1.000000</td>\n",
       "      <td>0.000000</td>\n",
       "      <td>1.000000</td>\n",
       "      <td>0.000000</td>\n",
       "      <td>255.000000</td>\n",
       "    </tr>\n",
       "    <tr>\n",
       "      <th>75%</th>\n",
       "      <td>6.800000</td>\n",
       "      <td>45.000000</td>\n",
       "      <td>1.000000</td>\n",
       "      <td>1.000000</td>\n",
       "      <td>1.000000</td>\n",
       "      <td>1.000000</td>\n",
       "      <td>255.000000</td>\n",
       "    </tr>\n",
       "    <tr>\n",
       "      <th>max</th>\n",
       "      <td>9.500000</td>\n",
       "      <td>90.000000</td>\n",
       "      <td>1.000000</td>\n",
       "      <td>1.000000</td>\n",
       "      <td>1.000000</td>\n",
       "      <td>1.000000</td>\n",
       "      <td>255.000000</td>\n",
       "    </tr>\n",
       "  </tbody>\n",
       "</table>\n",
       "</div>"
      ],
      "text/plain": [
       "                pH   Temprature        Taste         Odor         Fat   \\\n",
       "count  1059.000000  1059.000000  1059.000000  1059.000000  1059.000000   \n",
       "mean      6.630123    44.226629     0.546742     0.432483     0.671388   \n",
       "std       1.399679    10.098364     0.498046     0.495655     0.469930   \n",
       "min       3.000000    34.000000     0.000000     0.000000     0.000000   \n",
       "25%       6.500000    38.000000     0.000000     0.000000     0.000000   \n",
       "50%       6.700000    41.000000     1.000000     0.000000     1.000000   \n",
       "75%       6.800000    45.000000     1.000000     1.000000     1.000000   \n",
       "max       9.500000    90.000000     1.000000     1.000000     1.000000   \n",
       "\n",
       "         Turbidity       Colour  \n",
       "count  1059.000000  1059.000000  \n",
       "mean      0.491029   251.840415  \n",
       "std       0.500156     4.307424  \n",
       "min       0.000000   240.000000  \n",
       "25%       0.000000   250.000000  \n",
       "50%       0.000000   255.000000  \n",
       "75%       1.000000   255.000000  \n",
       "max       1.000000   255.000000  "
      ]
     },
     "execution_count": 26,
     "metadata": {},
     "output_type": "execute_result"
    }
   ],
   "source": [
    "df.describe()"
   ]
  },
  {
   "cell_type": "code",
   "execution_count": 27,
   "id": "de638679-53c9-4023-a3e3-8427e33b8271",
   "metadata": {},
   "outputs": [
    {
     "data": {
      "text/html": [
       "<div>\n",
       "<style scoped>\n",
       "    .dataframe tbody tr th:only-of-type {\n",
       "        vertical-align: middle;\n",
       "    }\n",
       "\n",
       "    .dataframe tbody tr th {\n",
       "        vertical-align: top;\n",
       "    }\n",
       "\n",
       "    .dataframe thead th {\n",
       "        text-align: right;\n",
       "    }\n",
       "</style>\n",
       "<table border=\"1\" class=\"dataframe\">\n",
       "  <thead>\n",
       "    <tr style=\"text-align: right;\">\n",
       "      <th></th>\n",
       "      <th>pH</th>\n",
       "      <th>Temprature</th>\n",
       "      <th>Taste</th>\n",
       "      <th>Odor</th>\n",
       "      <th>Fat</th>\n",
       "      <th>Turbidity</th>\n",
       "      <th>Colour</th>\n",
       "      <th>Grade</th>\n",
       "    </tr>\n",
       "  </thead>\n",
       "  <tbody>\n",
       "    <tr>\n",
       "      <th>0</th>\n",
       "      <td>6.6</td>\n",
       "      <td>35</td>\n",
       "      <td>1</td>\n",
       "      <td>0</td>\n",
       "      <td>1</td>\n",
       "      <td>0</td>\n",
       "      <td>254</td>\n",
       "      <td>high</td>\n",
       "    </tr>\n",
       "    <tr>\n",
       "      <th>1</th>\n",
       "      <td>6.6</td>\n",
       "      <td>36</td>\n",
       "      <td>0</td>\n",
       "      <td>1</td>\n",
       "      <td>0</td>\n",
       "      <td>1</td>\n",
       "      <td>253</td>\n",
       "      <td>high</td>\n",
       "    </tr>\n",
       "    <tr>\n",
       "      <th>2</th>\n",
       "      <td>8.5</td>\n",
       "      <td>70</td>\n",
       "      <td>1</td>\n",
       "      <td>1</td>\n",
       "      <td>1</td>\n",
       "      <td>1</td>\n",
       "      <td>246</td>\n",
       "      <td>low</td>\n",
       "    </tr>\n",
       "    <tr>\n",
       "      <th>3</th>\n",
       "      <td>9.5</td>\n",
       "      <td>34</td>\n",
       "      <td>1</td>\n",
       "      <td>1</td>\n",
       "      <td>0</td>\n",
       "      <td>1</td>\n",
       "      <td>255</td>\n",
       "      <td>low</td>\n",
       "    </tr>\n",
       "    <tr>\n",
       "      <th>4</th>\n",
       "      <td>6.6</td>\n",
       "      <td>37</td>\n",
       "      <td>0</td>\n",
       "      <td>0</td>\n",
       "      <td>0</td>\n",
       "      <td>0</td>\n",
       "      <td>255</td>\n",
       "      <td>medium</td>\n",
       "    </tr>\n",
       "  </tbody>\n",
       "</table>\n",
       "</div>"
      ],
      "text/plain": [
       "    pH  Temprature  Taste  Odor  Fat   Turbidity  Colour   Grade\n",
       "0  6.6          35      1     0     1          0     254    high\n",
       "1  6.6          36      0     1     0          1     253    high\n",
       "2  8.5          70      1     1     1          1     246     low\n",
       "3  9.5          34      1     1     0          1     255     low\n",
       "4  6.6          37      0     0     0          0     255  medium"
      ]
     },
     "execution_count": 27,
     "metadata": {},
     "output_type": "execute_result"
    }
   ],
   "source": [
    "df.head()"
   ]
  },
  {
   "cell_type": "code",
   "execution_count": 28,
   "id": "70d382da-c0f5-4fef-a569-ea82bcb8efba",
   "metadata": {},
   "outputs": [
    {
     "name": "stdout",
     "output_type": "stream",
     "text": [
      "<class 'pandas.core.frame.DataFrame'>\n",
      "RangeIndex: 1059 entries, 0 to 1058\n",
      "Data columns (total 8 columns):\n",
      " #   Column      Non-Null Count  Dtype  \n",
      "---  ------      --------------  -----  \n",
      " 0   pH          1059 non-null   float64\n",
      " 1   Temprature  1059 non-null   int64  \n",
      " 2   Taste       1059 non-null   int64  \n",
      " 3   Odor        1059 non-null   int64  \n",
      " 4   Fat         1059 non-null   int64  \n",
      " 5   Turbidity   1059 non-null   int64  \n",
      " 6   Colour      1059 non-null   int64  \n",
      " 7   Grade       1059 non-null   object \n",
      "dtypes: float64(1), int64(6), object(1)\n",
      "memory usage: 66.3+ KB\n"
     ]
    }
   ],
   "source": [
    "df.info()"
   ]
  },
  {
   "cell_type": "code",
   "execution_count": 29,
   "id": "a925e307-fbe2-47b4-bfd0-d1eabb296c73",
   "metadata": {},
   "outputs": [],
   "source": [
    "# remove strnig space.\n",
    "df.rename(columns=lambda x: x.strip(), inplace = True)"
   ]
  },
  {
   "cell_type": "code",
   "execution_count": 30,
   "id": "1841b182",
   "metadata": {},
   "outputs": [
    {
     "data": {
      "text/plain": [
       "pH            0\n",
       "Temprature    0\n",
       "Taste         0\n",
       "Odor          0\n",
       "Fat           0\n",
       "Turbidity     0\n",
       "Colour        0\n",
       "Grade         0\n",
       "dtype: int64"
      ]
     },
     "execution_count": 30,
     "metadata": {},
     "output_type": "execute_result"
    }
   ],
   "source": [
    "# check for missing vlaue \n",
    "df.isnull().sum()"
   ]
  },
  {
   "cell_type": "markdown",
   "id": "1bdd3ee8",
   "metadata": {},
   "source": [
    "**No missing value existed.**"
   ]
  },
  {
   "cell_type": "markdown",
   "id": "3a939efa",
   "metadata": {},
   "source": [
    "### Step 1: Normalization"
   ]
  },
  {
   "cell_type": "code",
   "execution_count": 31,
   "id": "f02aaf1e-81c5-47be-91c8-0fc369e3bacc",
   "metadata": {},
   "outputs": [
    {
     "name": "stdout",
     "output_type": "stream",
     "text": [
      "*** Before Normalization: \n",
      "        pH  Temprature  Taste  Odor  Fat  Turbidity  Colour   Grade\n",
      "0     6.6          35      1     0    1          0     254    high\n",
      "1     6.6          36      0     1    0          1     253    high\n",
      "2     8.5          70      1     1    1          1     246     low\n",
      "3     9.5          34      1     1    0          1     255     low\n",
      "4     6.6          37      0     0    0          0     255  medium\n",
      "...   ...         ...    ...   ...  ...        ...     ...     ...\n",
      "1054  6.7          45      1     1    0          0     247  medium\n",
      "1055  6.7          38      1     0    1          0     255    high\n",
      "1056  3.0          40      1     1    1          1     255     low\n",
      "1057  6.8          43      1     0    1          0     250    high\n",
      "1058  8.6          55      0     1    1          1     255     low\n",
      "\n",
      "[1059 rows x 8 columns]\n",
      "*** After Normalization: \n",
      "             pH  Temprature  Taste  Odor  Fat  Turbidity    Colour   Grade\n",
      "0     0.553846    0.017857      1     0    1          0  0.933333    high\n",
      "1     0.553846    0.035714      0     1    0          1  0.866667    high\n",
      "2     0.846154    0.642857      1     1    1          1  0.400000     low\n",
      "3     1.000000    0.000000      1     1    0          1  1.000000     low\n",
      "4     0.553846    0.053571      0     0    0          0  1.000000  medium\n",
      "...        ...         ...    ...   ...  ...        ...       ...     ...\n",
      "1054  0.569231    0.196429      1     1    0          0  0.466667  medium\n",
      "1055  0.569231    0.071429      1     0    1          0  1.000000    high\n",
      "1056  0.000000    0.107143      1     1    1          1  1.000000     low\n",
      "1057  0.584615    0.160714      1     0    1          0  0.666667    high\n",
      "1058  0.861538    0.375000      0     1    1          1  1.000000     low\n",
      "\n",
      "[1059 rows x 8 columns]\n"
     ]
    }
   ],
   "source": [
    "from sklearn import preprocessing\n",
    "       \n",
    "print(\"*** Before Normalization: \\n\", df)\n",
    "# quantitative columns to be normalized\n",
    "quantitative_columns = [\"pH\", \"Temprature\", \"Colour\"]\n",
    "min_max_scaler = preprocessing.MinMaxScaler()\n",
    "\n",
    "# normalization\n",
    "df[quantitative_columns] = min_max_scaler.fit_transform(df[quantitative_columns])\n",
    "print(\"*** After Normalization: \\n\", df)"
   ]
  },
  {
   "cell_type": "code",
   "execution_count": 32,
   "id": "45a3b3c4-43be-4996-bf04-bc63bab2e766",
   "metadata": {},
   "outputs": [],
   "source": [
    "# Features predictors\n",
    "X = df.drop(\"Grade\", axis = 1)\n",
    "# Tagret variable\n",
    "y = df[\"Grade\"]"
   ]
  },
  {
   "cell_type": "code",
   "execution_count": 33,
   "id": "2997856b-d07c-4017-828c-a56d4552ab6d",
   "metadata": {},
   "outputs": [
    {
     "name": "stdout",
     "output_type": "stream",
     "text": [
      "(741, 7)\n",
      "(318, 7)\n"
     ]
    }
   ],
   "source": [
    "# split the data for train and test \n",
    "from sklearn.model_selection import train_test_split\n",
    "\n",
    "# train = 70% and test = 30%\n",
    "X_train, X_test, y_train, y_test = train_test_split(X, y, test_size=0.3, random_state=84, stratify=y)\n",
    "\n",
    "# check the size of test and train for clearity.\n",
    "print(X_train.shape)\n",
    "print(X_test.shape)"
   ]
  },
  {
   "cell_type": "markdown",
   "id": "2d2a7cc8",
   "metadata": {},
   "source": [
    "### Step 2: Resampling."
   ]
  },
  {
   "cell_type": "code",
   "execution_count": 34,
   "id": "da115c7d",
   "metadata": {},
   "outputs": [
    {
     "name": "stdout",
     "output_type": "stream",
     "text": [
      "K-Fold Cross-Validation:\n",
      "Number 1 Fold has the accuracy: 0.99\n",
      "Number 2 Fold has the accuracy: 0.99\n",
      "Number 3 Fold has the accuracy: 1.00\n",
      "Number 4 Fold has the accuracy: 0.98\n",
      "Number 5 Fold has the accuracy: 0.97\n",
      "The average K-Fold Cross-Validation Accuracy is: 0.99\n"
     ]
    }
   ],
   "source": [
    "# k-fold cross validation\n",
    "from sklearn.neighbors import KNeighborsClassifier\n",
    "from sklearn.model_selection import StratifiedKFold\n",
    "from sklearn.metrics import accuracy_score\n",
    "\n",
    "# Initialize StratifiedKFold for k-fold cross-validation with 5 folds\n",
    "kf = StratifiedKFold(n_splits=5, shuffle=True, random_state=66)\n",
    "# Intialize KNN model with k=5\n",
    "knn_model = KNeighborsClassifier(n_neighbors=5) \n",
    "# accuracy array for the folds.\n",
    "fold_accuracies = []\n",
    "\n",
    "print(\"K-Fold Cross-Validation:\")\n",
    "for fold, (train_index, val_index) in enumerate(kf.split(X_train, y_train)):\n",
    "    # split the data into train and validation sets\n",
    "    X_train_fold = X_train.iloc[train_index]\n",
    "    y_train_fold = y_train.iloc[train_index]\n",
    "    # validation set.\n",
    "    X_val_fold = X_train.iloc[val_index]\n",
    "    y_val_fold = y_train.iloc[val_index]\n",
    "    \n",
    "    # Train the KNN model with the training data for this fold\n",
    "    knn_model.fit(X_train_fold, y_train_fold)\n",
    "    \n",
    "    # Use the trained model to make predictions on the validation set\n",
    "    y_val_pred = knn_model.predict(X_val_fold)\n",
    "    \n",
    "    # Calculate accuracy for this fold\n",
    "    accuracy = accuracy_score(y_val_fold, y_val_pred)\n",
    "    # add the accuracy for this fold to the list.\n",
    "    fold_accuracies.append(accuracy)\n",
    "    \n",
    "    print(f\"Number {fold + 1} Fold has the accuracy: {accuracy:.2f}\")\n",
    "\n",
    "# Compute the average accuracy.\n",
    "average_accu = sum(fold_accuracies) / len(fold_accuracies)\n",
    "print(f\"The average K-Fold Cross-Validation Accuracy is: {average_accu:.2f}\")"
   ]
  },
  {
   "cell_type": "markdown",
   "id": "4a08f3eb",
   "metadata": {},
   "source": [
    "**Accuracy is quite high, so the KNN Model should work for the dataset**"
   ]
  },
  {
   "cell_type": "markdown",
   "id": "790d54f3",
   "metadata": {},
   "source": [
    "### Step 3: Create the KNN Model for entire train data set."
   ]
  },
  {
   "cell_type": "code",
   "execution_count": 35,
   "id": "39f0885d",
   "metadata": {},
   "outputs": [
    {
     "name": "stdout",
     "output_type": "stream",
     "text": [
      "['low', 'low', 'low', 'low', 'low', 'low', 'high', 'medium', 'high', 'low']\n",
      "The model accuracy is 0.9685534591194969\n"
     ]
    }
   ],
   "source": [
    "knn_model = KNeighborsClassifier(n_neighbors=5) \n",
    "\n",
    "# trian the model\n",
    "knn_model.fit(X_train, y_train)\n",
    "\n",
    "# predict the model\n",
    "KNN_Model_Prediction = knn_model.predict(X_test)\n",
    "\n",
    "# print the model first 10 prediction for checking value consistency\n",
    "print(KNN_Model_Prediction.tolist()[0:10])\n",
    "\n",
    "# print the accuracy with real y value with the prediction.\n",
    "model_accuracy = accuracy_score(y_test, KNN_Model_Prediction)\n",
    "print(f\"The model accuracy is {model_accuracy}\")"
   ]
  },
  {
   "cell_type": "markdown",
   "id": "3cd25cb3",
   "metadata": {},
   "source": [
    "### Step 4: Tuning the hyperparameters"
   ]
  },
  {
   "cell_type": "code",
   "execution_count": 36,
   "id": "cb4de16a",
   "metadata": {},
   "outputs": [
    {
     "name": "stdout",
     "output_type": "stream",
     "text": [
      "Fitting 5 folds for each of 20 candidates, totalling 100 fits\n",
      "{'n_neighbors': 1}\n",
      "0.9972972972972972\n"
     ]
    }
   ],
   "source": [
    "# use grid search with cross validation to get the optimal value for the k parameter\n",
    "from sklearn.model_selection import GridSearchCV\n",
    "\n",
    "# only test the value of hyperparamter for k from 1 to 20\n",
    "param_grid = {\"n_neighbors\": range(1,21)}\n",
    "\n",
    "# an empty knn model without the hyperparameter\n",
    "knn = KNeighborsClassifier()\n",
    "\n",
    "# grid search with cross validation\n",
    "grid_search = GridSearchCV(knn, param_grid, cv=5, scoring = \"accuracy\", verbose = 1, n_jobs= -1) # verbose and n_jobs are optional to show the progress and reduce the time of running\n",
    "grid_search.fit(X_train, y_train)\n",
    "\n",
    "# optimal value \n",
    "print(grid_search.best_params_)\n",
    "print(grid_search.best_score_)"
   ]
  },
  {
   "cell_type": "markdown",
   "id": "48f3b7da",
   "metadata": {},
   "source": [
    "### Input the optiaml hyperparameter into the model to see the accuracy"
   ]
  },
  {
   "cell_type": "code",
   "execution_count": 37,
   "id": "447b7a33",
   "metadata": {},
   "outputs": [
    {
     "name": "stdout",
     "output_type": "stream",
     "text": [
      "Accuracy: 0.9905660377358491\n",
      "\n",
      "Confusion Matrix:\n",
      "[[ 77   0   0]\n",
      " [  3 126   0]\n",
      " [  0   0 112]]\n",
      "\n",
      "Classificaiton Report:\n",
      "              precision    recall  f1-score   support\n",
      "\n",
      "        high       0.96      1.00      0.98        77\n",
      "         low       1.00      0.98      0.99       129\n",
      "      medium       1.00      1.00      1.00       112\n",
      "\n",
      "    accuracy                           0.99       318\n",
      "   macro avg       0.99      0.99      0.99       318\n",
      "weighted avg       0.99      0.99      0.99       318\n",
      "\n",
      "Accuracy: 0.9685534591194969\n",
      "\n"
     ]
    }
   ],
   "source": [
    "# use the optimal value for the model creation \n",
    "from sklearn.metrics import confusion_matrix, classification_report\n",
    "optimal_knn_model = KNeighborsClassifier(n_neighbors=1)\n",
    "normal_knn_model = KNeighborsClassifier()\n",
    "# fit the model\n",
    "optimal_knn_model.fit(X_train, y_train)\n",
    "\n",
    "# # predict the test set\n",
    "y_pred_optimal = optimal_knn_model.predict(X_test)\n",
    "\n",
    "# # evaluate the model\n",
    "accuracy = accuracy_score(y_test, y_pred_optimal)\n",
    "print(f\"Accuracy: {accuracy}\\n\")\n",
    "\n",
    "# # confusion matrix\n",
    "matrix = confusion_matrix(y_test, y_pred_optimal)\n",
    "print(\"Confusion Matrix:\")\n",
    "print(matrix)\n",
    "\n",
    "# # classification report\n",
    "report = classification_report(y_test, y_pred_optimal)\n",
    "print(\"\\nClassificaiton Report:\")\n",
    "print(report)\n",
    "\n",
    "# fit the model\n",
    "normal_knn_model.fit(X_train, y_train)\n",
    "\n",
    "# # predict the test set\n",
    "y_pred_normal = normal_knn_model.predict(X_test)\n",
    "\n",
    "# # evaluate the model\n",
    "accuracy = accuracy_score(y_test, y_pred_normal)\n",
    "print(f\"Accuracy: {accuracy}\\n\")"
   ]
  },
  {
   "cell_type": "markdown",
   "id": "5392d7e0",
   "metadata": {},
   "source": [
    "### Result Evaluation and Visualization"
   ]
  },
  {
   "cell_type": "code",
   "execution_count": 38,
   "id": "1d7be40f",
   "metadata": {},
   "outputs": [
    {
     "data": {
      "image/png": "[encoded data removed]",
      "text/plain": [
       "<Figure size 800x600 with 2 Axes>"
      ]
     },
     "metadata": {},
     "output_type": "display_data"
    }
   ],
   "source": [
    "import matplotlib.pyplot as plt\n",
    "import seaborn as sns\n",
    "\n",
    "# Confusion Matrix Heatmap\n",
    "conf_matrix = confusion_matrix(y_test, y_pred_optimal)\n",
    "plt.figure(figsize=(8, 6))\n",
    "sns.heatmap(conf_matrix, annot=True, fmt=\"d\", cmap=\"Blues\", xticklabels=['Low', 'Medium', 'High'], yticklabels=['Low', 'Medium', 'High'])\n",
    "plt.title(\"Confusion Matrix\")\n",
    "plt.xlabel(\"Predicted Label\")\n",
    "plt.ylabel(\"True Label\")\n",
    "plt.show()"
   ]
  },
  {
   "cell_type": "code",
   "execution_count": 39,
   "id": "547b2bbd",
   "metadata": {},
   "outputs": [
    {
     "name": "stdout",
     "output_type": "stream",
     "text": [
      "['medium']\n"
     ]
    },
    {
     "name": "stderr",
     "output_type": "stream",
     "text": [
      "g:\\anaconda\\Lib\\site-packages\\sklearn\\base.py:493: UserWarning: X does not have valid feature names, but KNeighborsClassifier was fitted with feature names\n",
      "  warnings.warn(\n"
     ]
    }
   ],
   "source": [
    "# test the trained model \n",
    "test_inputs = [0.56, 0.2, 1, 1, 0, 0, 0.466]\n",
    "\n",
    "prediction = optimal_knn_model.predict([test_inputs])\n",
    "\n",
    "print(prediction)"
   ]
  }
 ],
 "metadata": {
  "kernelspec": {
   "display_name": "base",
   "language": "python",
   "name": "python3"
  },
  "language_info": {
   "codemirror_mode": {
    "name": "ipython",
    "version": 3
   },
   "file_extension": ".py",
   "mimetype": "text/x-python",
   "name": "python",
   "nbconvert_exporter": "python",
   "pygments_lexer": "ipython3",
   "version": "3.12.4"
  }
 },
 "nbformat": 4,
 "nbformat_minor": 5
}
